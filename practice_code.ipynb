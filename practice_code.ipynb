{
 "cells": [
  {
   "cell_type": "code",
   "execution_count": 2,
   "id": "b2fab5c7-b006-4c5d-becf-cec8199c6feb",
   "metadata": {},
   "outputs": [
    {
     "name": "stdout",
     "output_type": "stream",
     "text": [
      "Area of circle with radius 2.2: 15.205295600000001\n"
     ]
    }
   ],
   "source": [
    "# Cell 1: Calculating the area of a circle\n",
    "# We will define pi and the radius of a circle, then compute the area.\n",
    "\n",
    "pi = 3.14159          # value of pi\n",
    "radius = 2.2          # initial radius\n",
    "\n",
    "# area of a circle formula: area = pi * radius^2\n",
    "area = pi * (radius ** 2)\n",
    "\n",
    "# print the area\n",
    "print(\"Area of circle with radius 2.2:\", area)\n"
   ]
  },
  {
   "cell_type": "code",
   "execution_count": 3,
   "id": "c1677439-2a83-468a-97bd-415d471fb707",
   "metadata": {},
   "outputs": [
    {
     "name": "stdout",
     "output_type": "stream",
     "text": [
      "Previous area (still old value): 15.205295600000001\n",
      "New area with updated radius: 32.169881600000004\n"
     ]
    }
   ],
   "source": [
    "# Cell 2: Updating the radius and calculating the new area\n",
    "# If we change the radius, we need to recalculate the area.\n",
    "\n",
    "radius = radius + 1     # increase radius by 1\n",
    "print(\"Previous area (still old value):\", area)  # old area is unchanged\n",
    "\n",
    "# recalculate area with new radius\n",
    "area = pi * (radius ** 2)\n",
    "print(\"New area with updated radius:\", area)"
   ]
  },
  {
   "cell_type": "code",
   "execution_count": 4,
   "id": "fd179e98-ad56-4c13-9814-cfd1240558fc",
   "metadata": {},
   "outputs": [],
   "source": [
    "# Cell 3: Commenting multiple lines in Jupyter\n",
    "# Comments help others understand your code or temporarily disable code.\n",
    "\n",
    "# Example of commenting out multiple lines:\n",
    "# area = pi * (radius ** 2)\n",
    "# print(area)\n",
    "# radius = radius + 1\n",
    "# area = pi * (radius ** 2)\n",
    "# print(area)\n",
    "\n",
    "# Tip: In Jupyter, you can also use Ctrl+/ to comment/uncomment selected lines.\n"
   ]
  },
  {
   "cell_type": "code",
   "execution_count": 5,
   "id": "dee464d3-fdd1-4ae3-a600-4b2066d6947b",
   "metadata": {},
   "outputs": [
    {
     "name": "stdout",
     "output_type": "stream",
     "text": [
      "Value of the long variable: 1\n"
     ]
    }
   ],
   "source": [
    "# Cell 4: Autocomplete practice\n",
    "# Jupyter supports tab autocomplete for variable names and functions.\n",
    "# This is helpful when you have very long variable names.\n",
    "\n",
    "# Define a variable with a long name\n",
    "a_very_long_variable_name_dont_name_them_this_long_pls = 0\n",
    "\n",
    "# Use autocomplete to update the value\n",
    "a_very_long_variable_name_dont_name_them_this_long_pls = 1\n",
    "\n",
    "# Print the value (autocomplete will help finish function parentheses)\n",
    "print(\"Value of the long variable:\", a_very_long_variable_name_dont_name_them_this_long_pls)\n"
   ]
  }
 ],
 "metadata": {
  "kernelspec": {
   "display_name": "Python [conda env:base] *",
   "language": "python",
   "name": "conda-base-py"
  },
  "language_info": {
   "codemirror_mode": {
    "name": "ipython",
    "version": 3
   },
   "file_extension": ".py",
   "mimetype": "text/x-python",
   "name": "python",
   "nbconvert_exporter": "python",
   "pygments_lexer": "ipython3",
   "version": "3.13.5"
  }
 },
 "nbformat": 4,
 "nbformat_minor": 5
}
